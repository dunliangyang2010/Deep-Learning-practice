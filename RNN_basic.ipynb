{
  "nbformat": 4,
  "nbformat_minor": 0,
  "metadata": {
    "colab": {
      "name": "RNN-basic",
      "provenance": [],
      "collapsed_sections": [],
      "authorship_tag": "ABX9TyNojww5pm/vpKDuRel843R2",
      "include_colab_link": true
    },
    "kernelspec": {
      "name": "python3",
      "display_name": "Python 3"
    },
    "language_info": {
      "name": "python"
    },
    "accelerator": "GPU"
  },
  "cells": [
    {
      "cell_type": "markdown",
      "metadata": {
        "id": "view-in-github",
        "colab_type": "text"
      },
      "source": [
        "<a href=\"https://colab.research.google.com/github/dunliangyang2010/Deep-Learning-practice/blob/master/RNN_basic.ipynb\" target=\"_parent\"><img src=\"https://colab.research.google.com/assets/colab-badge.svg\" alt=\"Open In Colab\"/></a>"
      ]
    },
    {
      "cell_type": "code",
      "source": [
        "import tensorflow as tf\n",
        "from tensorflow.keras import layers, models"
      ],
      "metadata": {
        "id": "bNWooqXGa-w7"
      },
      "execution_count": 1,
      "outputs": []
    },
    {
      "cell_type": "code",
      "source": [
        "# Sample(batch) size: 1\n",
        "# Sequence Length: 5 (資料長度)\n",
        "# feature dimension: 8 (每個時間點的資料向量長度)\n",
        "\n",
        "inputs = tf.random.normal([1, 5, 8])\n",
        "inputs.shape"
      ],
      "metadata": {
        "colab": {
          "base_uri": "https://localhost:8080/"
        },
        "id": "ZoJLk4_wbR8c",
        "outputId": "1d2789d6-944a-4d4b-9616-b2044a6cca81"
      },
      "execution_count": 2,
      "outputs": [
        {
          "output_type": "execute_result",
          "data": {
            "text/plain": [
              "TensorShape([1, 5, 8])"
            ]
          },
          "metadata": {},
          "execution_count": 2
        }
      ]
    },
    {
      "cell_type": "markdown",
      "source": [
        "# tf.keras.layers.LSTM"
      ],
      "metadata": {
        "id": "swHuwHd8b3hU"
      }
    },
    {
      "cell_type": "code",
      "source": [
        "output = layers.LSTM(units=3)(inputs) # 只拿最後一筆的h,長度3\n",
        "output2 = layers.LSTM(units=3, return_sequences=True)(inputs) # 每個時間點的h都拿\n",
        "print(output.shape) # (batch size, feature dim) \n",
        "print(output2.shape) # (batch size, seq length, feature dim)"
      ],
      "metadata": {
        "colab": {
          "base_uri": "https://localhost:8080/"
        },
        "id": "YRAkVeqmb5aL",
        "outputId": "1929459f-9915-4739-ea84-2a4425efe2ac"
      },
      "execution_count": 4,
      "outputs": [
        {
          "output_type": "stream",
          "name": "stdout",
          "text": [
            "(1, 3)\n",
            "(1, 5, 3)\n"
          ]
        }
      ]
    },
    {
      "cell_type": "code",
      "source": [
        "whole_seq_output, final_hiden_state, final_cell_state = layers.LSTM(units=3, \n",
        "                                    return_sequences=True, \n",
        "                                    return_state=True)(inputs)\n",
        "\n",
        "print('whole_seq_output: ', whole_seq_output.shape, whole_seq_output)\n",
        "print('final_hiden_state (h): ', final_hiden_state.shape, final_hiden_state)\n",
        "print('final_cell_state (c): ', final_cell_state.shape, final_cell_state)"
      ],
      "metadata": {
        "colab": {
          "base_uri": "https://localhost:8080/"
        },
        "id": "GiPigX5AfMq1",
        "outputId": "b03d1771-311b-43f9-b63e-34cecfbc55f8"
      },
      "execution_count": 5,
      "outputs": [
        {
          "output_type": "stream",
          "name": "stdout",
          "text": [
            "whole_seq_output:  (1, 5, 3) tf.Tensor(\n",
            "[[[ 0.06528592 -0.03278505 -0.07613759]\n",
            "  [-0.13571326 -0.1907154  -0.09549402]\n",
            "  [-0.57082224 -0.3330478   0.09159414]\n",
            "  [-0.06113085 -0.1965439   0.05639385]\n",
            "  [ 0.14942108 -0.08224882 -0.00061382]]], shape=(1, 5, 3), dtype=float32)\n",
            "final_hiden_state (h):  (1, 3) tf.Tensor([[ 0.14942108 -0.08224882 -0.00061382]], shape=(1, 3), dtype=float32)\n",
            "final_cell_state (c):  (1, 3) tf.Tensor([[ 0.40483788 -0.21497783 -0.00160905]], shape=(1, 3), dtype=float32)\n"
          ]
        }
      ]
    },
    {
      "cell_type": "markdown",
      "source": [
        "# tf.keras.layers.GRU"
      ],
      "metadata": {
        "id": "bKUA9er0gJT8"
      }
    },
    {
      "cell_type": "code",
      "source": [
        "output = layers.GRU(units=3)(inputs)\n",
        "print(output.shape)"
      ],
      "metadata": {
        "colab": {
          "base_uri": "https://localhost:8080/"
        },
        "id": "gDg24824gKej",
        "outputId": "c783621b-bc3d-4437-fcff-f1fce5aa4881"
      },
      "execution_count": 6,
      "outputs": [
        {
          "output_type": "stream",
          "name": "stdout",
          "text": [
            "(1, 3)\n"
          ]
        }
      ]
    },
    {
      "cell_type": "code",
      "source": [
        "whole_sequence_output, final_state = layers.GRU(3, \n",
        "                          return_sequences=True, \n",
        "                          return_state=True)(inputs)\n",
        "\n",
        "print('whole_seq_output: ', whole_sequence_output.shape, whole_sequence_output)\n",
        "print('final_state (h): ', final_state.shape, final_state) # 可觀察到GRU當下的記憶就是最後的輸出,與LSTM不同"
      ],
      "metadata": {
        "colab": {
          "base_uri": "https://localhost:8080/"
        },
        "id": "SP5SsS0dgPHM",
        "outputId": "44ca85cd-686c-42a5-d25b-8be4828798ea"
      },
      "execution_count": 7,
      "outputs": [
        {
          "output_type": "stream",
          "name": "stdout",
          "text": [
            "whole_seq_output:  (1, 5, 3) tf.Tensor(\n",
            "[[[-0.2137111   0.04040337 -0.14240587]\n",
            "  [-0.01702046 -0.0473718  -0.27545074]\n",
            "  [-0.01935483  0.00455482 -0.39267024]\n",
            "  [ 0.12052972  0.18415612  0.10434673]\n",
            "  [ 0.25861856  0.5208134  -0.03838231]]], shape=(1, 5, 3), dtype=float32)\n",
            "final_state (h):  (1, 3) tf.Tensor([[ 0.25861856  0.5208134  -0.03838231]], shape=(1, 3), dtype=float32)\n"
          ]
        }
      ]
    },
    {
      "cell_type": "markdown",
      "source": [
        "# tf.keras.layers.Bidirectional"
      ],
      "metadata": {
        "id": "E75fO6Ljgtg-"
      }
    },
    {
      "cell_type": "code",
      "source": [
        "output = layers.Bidirectional(layers.LSTM(3))(inputs)\n",
        "print(output.shape) # 順逆向的長度3+3, 預設merge mode=concate"
      ],
      "metadata": {
        "colab": {
          "base_uri": "https://localhost:8080/"
        },
        "id": "IUff0vsHgo7c",
        "outputId": "0d4c2610-0bef-433d-a1a9-b4739a62d18a"
      },
      "execution_count": 8,
      "outputs": [
        {
          "output_type": "stream",
          "name": "stdout",
          "text": [
            "(1, 6)\n"
          ]
        }
      ]
    },
    {
      "cell_type": "code",
      "source": [
        "# merge_mode: 'sum' or 'concat'\n",
        "output = layers.Bidirectional(layers.LSTM(3), \n",
        "                merge_mode='sum')(inputs)\n",
        "print(output.shape)"
      ],
      "metadata": {
        "colab": {
          "base_uri": "https://localhost:8080/"
        },
        "id": "U6tszZxVhSYV",
        "outputId": "88871d29-83bd-4f1a-82f1-5ef7295e6561"
      },
      "execution_count": 9,
      "outputs": [
        {
          "output_type": "stream",
          "name": "stdout",
          "text": [
            "(1, 3)\n"
          ]
        }
      ]
    },
    {
      "cell_type": "code",
      "source": [
        "# return_sequences: True\n",
        "output = layers.Bidirectional(layers.LSTM(3, return_sequences=True))(inputs)\n",
        "print(output.shape)"
      ],
      "metadata": {
        "colab": {
          "base_uri": "https://localhost:8080/"
        },
        "id": "Ec1bRtMqhb9t",
        "outputId": "3ba9a708-0868-4e56-aaf1-6b1d5cd82dc2"
      },
      "execution_count": 10,
      "outputs": [
        {
          "output_type": "stream",
          "name": "stdout",
          "text": [
            "(1, 5, 6)\n"
          ]
        }
      ]
    },
    {
      "cell_type": "code",
      "source": [
        "# return_sequences: True, \n",
        "output, forward_h, forward_c, backward_h, backward_c = layers.Bidirectional(layers.LSTM(3, \n",
        "                                              return_sequences=True, \n",
        "                                              return_state=True))(inputs)\n",
        "print('output : ', output.shape, output)\n",
        "print('forward_h : ', forward_h.shape, forward_h)\n",
        "print('forward_c : ', forward_c.shape, forward_c)\n",
        "print('backward_h : ', backward_h.shape, backward_h)\n",
        "print('backward_c : ', backward_c.shape, backward_c)"
      ],
      "metadata": {
        "colab": {
          "base_uri": "https://localhost:8080/"
        },
        "id": "6usDmpfFhtX0",
        "outputId": "9a0193fa-8f1b-4e8c-b704-0e331bdbd126"
      },
      "execution_count": 11,
      "outputs": [
        {
          "output_type": "stream",
          "name": "stdout",
          "text": [
            "output :  (1, 5, 6) tf.Tensor(\n",
            "[[[ 0.20590037 -0.13478883 -0.10357321  0.23417853 -0.5115745\n",
            "    0.16535993]\n",
            "  [ 0.51269567  0.04870303  0.04200366  0.27141201 -0.3168338\n",
            "    0.14911361]\n",
            "  [ 0.47624192  0.16086176  0.07994915  0.15956287 -0.16377613\n",
            "    0.02678044]\n",
            "  [ 0.42288646  0.3494871   0.11617518  0.00827353 -0.36378828\n",
            "    0.039612  ]\n",
            "  [ 0.13780111  0.0341048   0.05465233 -0.16844952 -0.40405765\n",
            "    0.04321381]]], shape=(1, 5, 6), dtype=float32)\n",
            "forward_h :  (1, 3) tf.Tensor([[0.13780111 0.0341048  0.05465233]], shape=(1, 3), dtype=float32)\n",
            "forward_c :  (1, 3) tf.Tensor([[0.5668829  0.07714961 0.12409285]], shape=(1, 3), dtype=float32)\n",
            "backward_h :  (1, 3) tf.Tensor([[ 0.23417853 -0.5115745   0.16535993]], shape=(1, 3), dtype=float32)\n",
            "backward_c :  (1, 3) tf.Tensor([[ 0.359542  -1.0086633  0.413715 ]], shape=(1, 3), dtype=float32)\n"
          ]
        }
      ]
    },
    {
      "cell_type": "markdown",
      "source": [
        "# Many to one"
      ],
      "metadata": {
        "id": "W6Z_qC6aiB78"
      }
    },
    {
      "cell_type": "code",
      "source": [
        "input = layers.Input(shape=(5, 8)) # (seq len, feature dim)\n",
        "x = layers.LSTM(3)(input)\n",
        "ouput = layers.Dense(10, activation='softmax')(x)\n",
        "model = models.Model(input, ouput)\n",
        "model.summary()"
      ],
      "metadata": {
        "colab": {
          "base_uri": "https://localhost:8080/"
        },
        "id": "AK7pwMDriEC-",
        "outputId": "cd0a5f73-406c-4cda-c745-e11c6d8ee5b0"
      },
      "execution_count": 12,
      "outputs": [
        {
          "output_type": "stream",
          "name": "stdout",
          "text": [
            "Model: \"model\"\n",
            "_________________________________________________________________\n",
            " Layer (type)                Output Shape              Param #   \n",
            "=================================================================\n",
            " input_1 (InputLayer)        [(None, 5, 8)]            0         \n",
            "                                                                 \n",
            " lstm_9 (LSTM)               (None, 3)                 144       \n",
            "                                                                 \n",
            " dense (Dense)               (None, 10)                40        \n",
            "                                                                 \n",
            "=================================================================\n",
            "Total params: 184\n",
            "Trainable params: 184\n",
            "Non-trainable params: 0\n",
            "_________________________________________________________________\n"
          ]
        }
      ]
    },
    {
      "cell_type": "code",
      "source": [
        "# multi-layer\n",
        "input = layers.Input(shape=(5, 8))\n",
        "x1 = layers.LSTM(128, return_sequences=True)(input)\n",
        "x2 = layers.LSTM(256, return_sequences=True)(x1)\n",
        "x3 = layers.LSTM(512)(x2) # 最後一層可拿最後時間點的輸出, 但前面兩層LSTM必須開啟sequence,否則資訊無法往下層傳遞\n",
        "ouput = layers.Dense(10, activation='softmax')(x3)\n",
        "model = models.Model(input, ouput)\n",
        "model.summary()"
      ],
      "metadata": {
        "colab": {
          "base_uri": "https://localhost:8080/"
        },
        "id": "3l2iQf3ciq58",
        "outputId": "26d3a78d-193c-4c2d-afea-32dd87ac9e47"
      },
      "execution_count": 13,
      "outputs": [
        {
          "output_type": "stream",
          "name": "stdout",
          "text": [
            "Model: \"model_1\"\n",
            "_________________________________________________________________\n",
            " Layer (type)                Output Shape              Param #   \n",
            "=================================================================\n",
            " input_2 (InputLayer)        [(None, 5, 8)]            0         \n",
            "                                                                 \n",
            " lstm_10 (LSTM)              (None, 5, 128)            70144     \n",
            "                                                                 \n",
            " lstm_11 (LSTM)              (None, 5, 256)            394240    \n",
            "                                                                 \n",
            " lstm_12 (LSTM)              (None, 512)               1574912   \n",
            "                                                                 \n",
            " dense_1 (Dense)             (None, 10)                5130      \n",
            "                                                                 \n",
            "=================================================================\n",
            "Total params: 2,044,426\n",
            "Trainable params: 2,044,426\n",
            "Non-trainable params: 0\n",
            "_________________________________________________________________\n"
          ]
        }
      ]
    },
    {
      "cell_type": "markdown",
      "source": [
        "# Many-to-many (same length)"
      ],
      "metadata": {
        "id": "7gkTV_8Ujs9N"
      }
    },
    {
      "cell_type": "code",
      "source": [
        "# 以每個時間點都有一個輸出的type為例\n",
        "input = layers.Input(shape=(500, 8))\n",
        "x = layers.LSTM(10, return_sequences=True)(input)\n",
        "output = layers.Dense(20, activation='softmax')(x)\n",
        "model = models.Model(input, output)\n",
        "model.summary()"
      ],
      "metadata": {
        "colab": {
          "base_uri": "https://localhost:8080/"
        },
        "id": "CKq-CJugjrDX",
        "outputId": "12c20ded-a614-4a10-bcde-e6601a7b2441"
      },
      "execution_count": 14,
      "outputs": [
        {
          "output_type": "stream",
          "name": "stdout",
          "text": [
            "Model: \"model_2\"\n",
            "_________________________________________________________________\n",
            " Layer (type)                Output Shape              Param #   \n",
            "=================================================================\n",
            " input_3 (InputLayer)        [(None, 500, 8)]          0         \n",
            "                                                                 \n",
            " lstm_13 (LSTM)              (None, 500, 10)           760       \n",
            "                                                                 \n",
            " dense_2 (Dense)             (None, 500, 20)           220       \n",
            "                                                                 \n",
            "=================================================================\n",
            "Total params: 980\n",
            "Trainable params: 980\n",
            "Non-trainable params: 0\n",
            "_________________________________________________________________\n"
          ]
        }
      ]
    },
    {
      "cell_type": "markdown",
      "source": [
        "# Many-to-many (different length) : Seq2seq"
      ],
      "metadata": {
        "id": "GPJLOd6wkSyE"
      }
    },
    {
      "cell_type": "code",
      "source": [
        ""
      ],
      "metadata": {
        "id": "gY9t9ttKkVtW"
      },
      "execution_count": null,
      "outputs": []
    }
  ]
}