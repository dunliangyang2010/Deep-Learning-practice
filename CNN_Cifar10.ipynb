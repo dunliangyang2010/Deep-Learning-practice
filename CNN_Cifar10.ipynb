{
  "nbformat": 4,
  "nbformat_minor": 0,
  "metadata": {
    "colab": {
      "name": "CNN-Cifar10",
      "provenance": [],
      "authorship_tag": "ABX9TyNL08hmTNixHxQDoT06rJ0P",
      "include_colab_link": true
    },
    "kernelspec": {
      "name": "python3",
      "display_name": "Python 3"
    },
    "language_info": {
      "name": "python"
    }
  },
  "cells": [
    {
      "cell_type": "markdown",
      "metadata": {
        "id": "view-in-github",
        "colab_type": "text"
      },
      "source": [
        "<a href=\"https://colab.research.google.com/github/dunliangyang2010/Deep-Learning-practice/blob/master/CNN_Cifar10.ipynb\" target=\"_parent\"><img src=\"https://colab.research.google.com/assets/colab-badge.svg\" alt=\"Open In Colab\"/></a>"
      ]
    },
    {
      "cell_type": "code",
      "metadata": {
        "id": "sMrj-pNuCPre"
      },
      "source": [
        "from tensorflow.keras import datasets, models, layers, utils, losses, optimizers\n",
        "import numpy as np\n",
        "import matplotlib.pyplot as plt "
      ],
      "execution_count": 1,
      "outputs": []
    },
    {
      "cell_type": "code",
      "metadata": {
        "id": "JSIk8yx0M3Wg"
      },
      "source": [
        "num_classes = 10\n",
        "img_size = 32"
      ],
      "execution_count": 2,
      "outputs": []
    },
    {
      "cell_type": "code",
      "metadata": {
        "colab": {
          "base_uri": "https://localhost:8080/"
        },
        "id": "EqMrb3-9M5em",
        "outputId": "1aa5f25d-505e-4cdb-f317-13085b0cf09a"
      },
      "source": [
        "(x_train, y_train), (x_val, y_val) = datasets.cifar10.load_data()"
      ],
      "execution_count": 3,
      "outputs": [
        {
          "output_type": "stream",
          "name": "stdout",
          "text": [
            "Downloading data from https://www.cs.toronto.edu/~kriz/cifar-10-python.tar.gz\n",
            "170500096/170498071 [==============================] - 2s 0us/step\n",
            "170508288/170498071 [==============================] - 2s 0us/step\n"
          ]
        }
      ]
    },
    {
      "cell_type": "code",
      "metadata": {
        "id": "heoTVYIsM7Yw",
        "colab": {
          "base_uri": "https://localhost:8080/",
          "height": 318
        },
        "outputId": "43fc45eb-8dba-4e63-b4bf-8b9b25a09160"
      },
      "source": [
        "index = np.random.randint(x_train.shape[0])\n",
        "print('index: ',index)\n",
        "img, label = x_train[index], y_train[index]\n",
        "print('class: ',label)\n",
        "plt.imshow(img)"
      ],
      "execution_count": 7,
      "outputs": [
        {
          "output_type": "stream",
          "name": "stdout",
          "text": [
            "index:  217\n",
            "class:  [5]\n"
          ]
        },
        {
          "output_type": "execute_result",
          "data": {
            "text/plain": [
              "<matplotlib.image.AxesImage at 0x7f07ed2fa9d0>"
            ]
          },
          "metadata": {},
          "execution_count": 7
        },
        {
          "output_type": "display_data",
          "data": {
            "image/png": "[encoded data removed]",
            "text/plain": [
              "<Figure size 432x288 with 1 Axes>"
            ]
          },
          "metadata": {
            "needs_background": "light"
          }
        }
      ]
    },
    {
      "cell_type": "markdown",
      "metadata": {
        "id": "Dn8BHopEvtr-"
      },
      "source": [
        "Preprocess"
      ]
    },
    {
      "cell_type": "code",
      "metadata": {
        "colab": {
          "base_uri": "https://localhost:8080/"
        },
        "id": "FNBggVmhM_wH",
        "outputId": "109147da-3f9e-4764-a09d-23529fca2a9c"
      },
      "source": [
        "# normalization 0~1\n",
        "x_train = x_train/255.\n",
        "x_val = x_val/255.\n",
        "\n",
        "# one hot encoding\n",
        "y_train = utils.to_categorical(y_train, num_classes= num_classes)\n",
        "y_val = utils.to_categorical(y_val, num_classes= num_classes)\n",
        "\n",
        "x_train.shape, x_val.shape, y_train.shape, y_val.shape"
      ],
      "execution_count": 9,
      "outputs": [
        {
          "output_type": "execute_result",
          "data": {
            "text/plain": [
              "((50000, 32, 32, 3), (10000, 32, 32, 3), (50000, 10), (10000, 10))"
            ]
          },
          "metadata": {},
          "execution_count": 9
        }
      ]
    },
    {
      "cell_type": "code",
      "metadata": {
        "colab": {
          "base_uri": "https://localhost:8080/"
        },
        "id": "zqFLujJHwiVG",
        "outputId": "306eea35-ba3c-4b32-b27b-2f51433202b6"
      },
      "source": [
        "y_train[0]"
      ],
      "execution_count": 10,
      "outputs": [
        {
          "output_type": "execute_result",
          "data": {
            "text/plain": [
              "array([0., 0., 0., 0., 0., 0., 1., 0., 0., 0.], dtype=float32)"
            ]
          },
          "metadata": {},
          "execution_count": 10
        }
      ]
    },
    {
      "cell_type": "markdown",
      "metadata": {
        "id": "O1dd8RdIww-N"
      },
      "source": [
        "Build model"
      ]
    },
    {
      "cell_type": "code",
      "metadata": {
        "id": "Sr5L6arSw3Y1"
      },
      "source": [
        "inputs = layers.Input(shape=(img_size, img_size, 3))\n",
        "x = layers.Conv2D(filters=32, kernel_size=3, activation='relu', padding='same')(inputs)\n",
        "x = layers.Conv2D(filters=32, kernel_size=3, activation='relu', padding='same')(x)\n",
        "x = layers.MaxPooling2D(2)(x)\n",
        "x = layers.Conv2D(filters=64, kernel_size=3, activation='relu', padding='same')(x)\n",
        "x = layers.Conv2D(filters=64, kernel_size=3, activation='relu', padding='same')(x)\n",
        "x = layers.MaxPooling2D(2)(x)\n",
        "x = layers.Flatten()(x)\n",
        "x = layers.Dense(512, activation='relu')(x)\n",
        "prediction = layers.Dense(num_classes, activation='softmax')(x)\n",
        "\n",
        "model = models.Model(inputs=inputs, outputs=prediction)"
      ],
      "execution_count": 11,
      "outputs": []
    },
    {
      "cell_type": "code",
      "metadata": {
        "colab": {
          "base_uri": "https://localhost:8080/"
        },
        "id": "67eboMlU-fQQ",
        "outputId": "0bdd2eef-b5c2-4bf5-a8e1-b3f35ca5a93a"
      },
      "source": [
        "model.summary()"
      ],
      "execution_count": 12,
      "outputs": [
        {
          "output_type": "stream",
          "name": "stdout",
          "text": [
            "Model: \"model\"\n",
            "_________________________________________________________________\n",
            " Layer (type)                Output Shape              Param #   \n",
            "=================================================================\n",
            " input_1 (InputLayer)        [(None, 32, 32, 3)]       0         \n",
            "                                                                 \n",
            " conv2d (Conv2D)             (None, 32, 32, 32)        896       \n",
            "                                                                 \n",
            " conv2d_1 (Conv2D)           (None, 32, 32, 32)        9248      \n",
            "                                                                 \n",
            " max_pooling2d (MaxPooling2D  (None, 16, 16, 32)       0         \n",
            " )                                                               \n",
            "                                                                 \n",
            " conv2d_2 (Conv2D)           (None, 16, 16, 64)        18496     \n",
            "                                                                 \n",
            " conv2d_3 (Conv2D)           (None, 16, 16, 64)        36928     \n",
            "                                                                 \n",
            " max_pooling2d_1 (MaxPooling  (None, 8, 8, 64)         0         \n",
            " 2D)                                                             \n",
            "                                                                 \n",
            " flatten (Flatten)           (None, 4096)              0         \n",
            "                                                                 \n",
            " dense (Dense)               (None, 512)               2097664   \n",
            "                                                                 \n",
            " dense_1 (Dense)             (None, 10)                5130      \n",
            "                                                                 \n",
            "=================================================================\n",
            "Total params: 2,168,362\n",
            "Trainable params: 2,168,362\n",
            "Non-trainable params: 0\n",
            "_________________________________________________________________\n"
          ]
        }
      ]
    },
    {
      "cell_type": "markdown",
      "metadata": {
        "id": "uxpx8Ne2-m77"
      },
      "source": [
        "Training"
      ]
    },
    {
      "cell_type": "code",
      "metadata": {
        "id": "hopdZ2zf-l3U"
      },
      "source": [
        "model.compile(loss= losses.categorical_crossentropy,\n",
        "       optimizer=optimizers.Adam(),\n",
        "       metrics=['accuracy'])\n",
        "# optimize使用SGD時, val_accuracy: 0.5897 , 故使用Adam有moment概念防止停在local minimun做實驗"
      ],
      "execution_count": 13,
      "outputs": []
    },
    {
      "cell_type": "code",
      "metadata": {
        "colab": {
          "base_uri": "https://localhost:8080/"
        },
        "id": "husZSy_v_F08",
        "outputId": "0a4584f0-05a1-478e-8578-05c7bc5d21ae"
      },
      "source": [
        "logs = model.fit(x_train, y_train,\n",
        "          batch_size=64,\n",
        "          epochs=10,\n",
        "          verbose=1,\n",
        "          validation_data=(x_val,y_val))"
      ],
      "execution_count": 15,
      "outputs": [
        {
          "output_type": "stream",
          "name": "stdout",
          "text": [
            "Epoch 1/10\n",
            "782/782 [==============================] - 274s 350ms/step - loss: 1.3431 - accuracy: 0.5173 - val_loss: 1.0403 - val_accuracy: 0.6340\n",
            "Epoch 2/10\n",
            "782/782 [==============================] - 273s 349ms/step - loss: 0.8706 - accuracy: 0.6931 - val_loss: 0.8235 - val_accuracy: 0.7111\n",
            "Epoch 3/10\n",
            "782/782 [==============================] - 273s 349ms/step - loss: 0.6691 - accuracy: 0.7663 - val_loss: 0.7776 - val_accuracy: 0.7340\n",
            "Epoch 4/10\n",
            "782/782 [==============================] - 272s 348ms/step - loss: 0.5054 - accuracy: 0.8250 - val_loss: 0.7497 - val_accuracy: 0.7567\n",
            "Epoch 5/10\n",
            "782/782 [==============================] - 273s 350ms/step - loss: 0.3589 - accuracy: 0.8752 - val_loss: 0.8485 - val_accuracy: 0.7388\n",
            "Epoch 6/10\n",
            "782/782 [==============================] - 273s 349ms/step - loss: 0.2296 - accuracy: 0.9199 - val_loss: 0.9066 - val_accuracy: 0.7452\n",
            "Epoch 7/10\n",
            "782/782 [==============================] - 272s 348ms/step - loss: 0.1463 - accuracy: 0.9494 - val_loss: 1.0482 - val_accuracy: 0.7586\n",
            "Epoch 8/10\n",
            "782/782 [==============================] - 272s 348ms/step - loss: 0.0978 - accuracy: 0.9662 - val_loss: 1.2210 - val_accuracy: 0.7538\n",
            "Epoch 9/10\n",
            "782/782 [==============================] - 272s 348ms/step - loss: 0.0876 - accuracy: 0.9695 - val_loss: 1.3601 - val_accuracy: 0.7497\n",
            "Epoch 10/10\n",
            "782/782 [==============================] - 272s 347ms/step - loss: 0.0713 - accuracy: 0.9758 - val_loss: 1.3735 - val_accuracy: 0.7559\n"
          ]
        }
      ]
    },
    {
      "cell_type": "code",
      "metadata": {
        "id": "wMIdEIxP_q94"
      },
      "source": [
        "history = logs.history"
      ],
      "execution_count": 16,
      "outputs": []
    },
    {
      "cell_type": "code",
      "metadata": {
        "colab": {
          "base_uri": "https://localhost:8080/",
          "height": 298
        },
        "id": "hOjiuWR1_1U0",
        "outputId": "e07b51c0-5278-4eda-d82c-56a08cfd13f9"
      },
      "source": [
        "plt.plot(history['accuracy'])\n",
        "plt.plot(history['val_accuracy'])\n",
        "plt.legend(['accuracy','val_accuracy'])\n",
        "plt.title('accuracy')"
      ],
      "execution_count": 17,
      "outputs": [
        {
          "output_type": "execute_result",
          "data": {
            "text/plain": [
              "Text(0.5, 1.0, 'accuracy')"
            ]
          },
          "metadata": {},
          "execution_count": 17
        },
        {
          "output_type": "display_data",
          "data": {
            "image/png": "[encoded data removed]",
            "text/plain": [
              "<Figure size 432x288 with 1 Axes>"
            ]
          },
          "metadata": {
            "needs_background": "light"
          }
        }
      ]
    },
    {
      "cell_type": "code",
      "metadata": {
        "colab": {
          "base_uri": "https://localhost:8080/",
          "height": 298
        },
        "id": "IqwKRnbSAPuk",
        "outputId": "4b71958d-99b5-4d88-f0aa-864fce0182e1"
      },
      "source": [
        "plt.plot(history['loss'])\n",
        "plt.plot(history['val_loss'])\n",
        "plt.legend(['loss','val_loss'])\n",
        "plt.title('loss')"
      ],
      "execution_count": 18,
      "outputs": [
        {
          "output_type": "execute_result",
          "data": {
            "text/plain": [
              "Text(0.5, 1.0, 'loss')"
            ]
          },
          "metadata": {},
          "execution_count": 18
        },
        {
          "output_type": "display_data",
          "data": {
            "image/png": "[encoded data removed]",
            "text/plain": [
              "<Figure size 432x288 with 1 Axes>"
            ]
          },
          "metadata": {
            "needs_background": "light"
          }
        }
      ]
    },
    {
      "cell_type": "markdown",
      "metadata": {
        "id": "gEIf736DAlNJ"
      },
      "source": [
        "Metrics"
      ]
    },
    {
      "cell_type": "code",
      "metadata": {
        "colab": {
          "base_uri": "https://localhost:8080/"
        },
        "id": "lmSyiIV3Akg8",
        "outputId": "2674da15-7ecc-4578-ed60-76768ba7cafc"
      },
      "source": [
        "from sklearn.metrics import classification_report, confusion_matrix\n",
        "\n",
        "y_true = np.argmax(y_val, axis=-1)\n",
        "prediction = model.predict(x_val)\n",
        "y_pred = np.argmax(prediction,axis=-1)\n",
        "\n",
        "print(y_true.shape, y_pred.shape)"
      ],
      "execution_count": 19,
      "outputs": [
        {
          "output_type": "stream",
          "name": "stdout",
          "text": [
            "(10000,) (10000,)\n"
          ]
        }
      ]
    },
    {
      "cell_type": "code",
      "metadata": {
        "colab": {
          "base_uri": "https://localhost:8080/"
        },
        "id": "_4jf9yzjCz23",
        "outputId": "ac4bdebd-faa8-4746-896a-7f72a41a6729"
      },
      "source": [
        "# classification report\n",
        "print(classification_report(y_true, y_pred))"
      ],
      "execution_count": 20,
      "outputs": [
        {
          "output_type": "stream",
          "name": "stdout",
          "text": [
            "              precision    recall  f1-score   support\n",
            "\n",
            "           0       0.76      0.81      0.78      1000\n",
            "           1       0.85      0.88      0.86      1000\n",
            "           2       0.68      0.66      0.67      1000\n",
            "           3       0.59      0.54      0.56      1000\n",
            "           4       0.68      0.75      0.71      1000\n",
            "           5       0.71      0.62      0.66      1000\n",
            "           6       0.76      0.87      0.81      1000\n",
            "           7       0.84      0.78      0.81      1000\n",
            "           8       0.87      0.82      0.85      1000\n",
            "           9       0.82      0.84      0.83      1000\n",
            "\n",
            "    accuracy                           0.76     10000\n",
            "   macro avg       0.75      0.76      0.75     10000\n",
            "weighted avg       0.75      0.76      0.75     10000\n",
            "\n"
          ]
        }
      ]
    },
    {
      "cell_type": "code",
      "metadata": {
        "colab": {
          "base_uri": "https://localhost:8080/"
        },
        "id": "M9_9F32lDBDy",
        "outputId": "82780598-dee8-4f1e-d2c2-52331a3e574d"
      },
      "source": [
        "# confusion matrix\n",
        "# row: Ground truth\n",
        "# column: predict\n",
        "\n",
        "print(confusion_matrix(y_true, y_pred))"
      ],
      "execution_count": 21,
      "outputs": [
        {
          "output_type": "stream",
          "name": "stdout",
          "text": [
            "[[805  13  54  20   8   5  20   8  37  30]\n",
            " [ 20 879   1   2   2   4   5   2  18  67]\n",
            " [ 53   8 662  46  95  30  64  18  15   9]\n",
            " [ 27  14  71 536  84 124  85  23  14  22]\n",
            " [ 14   4  57  56 746  26  45  37  10   5]\n",
            " [ 17   9  45 163  59 618  31  38   6  14]\n",
            " [ 10   2  24  37  31  14 871   4   2   5]\n",
            " [ 19   6  37  40  58  41   4 779   2  14]\n",
            " [ 65  35  19   9   3   7   8   6 824  24]\n",
            " [ 30  67   9   7   6   4   8   8  22 839]]\n"
          ]
        }
      ]
    },
    {
      "cell_type": "markdown",
      "metadata": {
        "id": "1JutYHLHDSCE"
      },
      "source": [
        "Save model"
      ]
    },
    {
      "cell_type": "code",
      "metadata": {
        "id": "wU4tnUoFDRH6"
      },
      "source": [
        "# 1. save whole model and weights\n",
        "model.save('my_model.h5')\n",
        "model2 = models.load_model('my_model.h5')"
      ],
      "execution_count": null,
      "outputs": []
    },
    {
      "cell_type": "code",
      "metadata": {
        "id": "vg8G7jtDDdGp"
      },
      "source": [
        "# 2. \n",
        "\n",
        "model.save_weights('weigths.h5')\n",
        "\n",
        "# rebuild model\n",
        "model = build_model()\n",
        "model.load_weights('weigths.h5')"
      ],
      "execution_count": null,
      "outputs": []
    }
  ]
}